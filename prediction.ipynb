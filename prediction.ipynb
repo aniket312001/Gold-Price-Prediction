{
 "cells": [
  {
   "cell_type": "markdown",
   "metadata": {},
   "source": [
    "# Gold Price Prediction  (from 2008 to 2018 year)"
   ]
  },
  {
   "cell_type": "markdown",
   "metadata": {},
   "source": [
    "In This Project I have performed\n",
    "\n",
    "1. Create Model Using Random Forest and predict the value of Gold\n",
    "2. Forcast the value"
   ]
  },
  {
   "cell_type": "code",
   "execution_count": 1,
   "metadata": {
    "id": "Oa8MLqspOCrI"
   },
   "outputs": [],
   "source": [
    "import pandas as pd\n",
    "import numpy as np\n",
    "import seaborn as sns\n",
    "import matplotlib.pyplot as plt "
   ]
  },
  {
   "cell_type": "code",
   "execution_count": 2,
   "metadata": {
    "colab": {
     "base_uri": "https://localhost:8080/",
     "height": 195
    },
    "id": "UlM-FCDWOCrO",
    "outputId": "579daf82-fc21-4f46-b1bb-c05a1f7a7aac"
   },
   "outputs": [
    {
     "data": {
      "text/html": [
       "<div>\n",
       "<style scoped>\n",
       "    .dataframe tbody tr th:only-of-type {\n",
       "        vertical-align: middle;\n",
       "    }\n",
       "\n",
       "    .dataframe tbody tr th {\n",
       "        vertical-align: top;\n",
       "    }\n",
       "\n",
       "    .dataframe thead th {\n",
       "        text-align: right;\n",
       "    }\n",
       "</style>\n",
       "<table border=\"1\" class=\"dataframe\">\n",
       "  <thead>\n",
       "    <tr style=\"text-align: right;\">\n",
       "      <th></th>\n",
       "      <th>Date</th>\n",
       "      <th>SPX</th>\n",
       "      <th>GLD</th>\n",
       "      <th>USO</th>\n",
       "      <th>SLV</th>\n",
       "      <th>EUR/USD</th>\n",
       "    </tr>\n",
       "  </thead>\n",
       "  <tbody>\n",
       "    <tr>\n",
       "      <th>0</th>\n",
       "      <td>1/2/2008</td>\n",
       "      <td>1447.160034</td>\n",
       "      <td>84.860001</td>\n",
       "      <td>78.470001</td>\n",
       "      <td>15.180</td>\n",
       "      <td>1.471692</td>\n",
       "    </tr>\n",
       "    <tr>\n",
       "      <th>1</th>\n",
       "      <td>1/3/2008</td>\n",
       "      <td>1447.160034</td>\n",
       "      <td>85.570000</td>\n",
       "      <td>78.370003</td>\n",
       "      <td>15.285</td>\n",
       "      <td>1.474491</td>\n",
       "    </tr>\n",
       "    <tr>\n",
       "      <th>2</th>\n",
       "      <td>1/4/2008</td>\n",
       "      <td>1411.630005</td>\n",
       "      <td>85.129997</td>\n",
       "      <td>77.309998</td>\n",
       "      <td>15.167</td>\n",
       "      <td>1.475492</td>\n",
       "    </tr>\n",
       "    <tr>\n",
       "      <th>3</th>\n",
       "      <td>1/7/2008</td>\n",
       "      <td>1416.180054</td>\n",
       "      <td>84.769997</td>\n",
       "      <td>75.500000</td>\n",
       "      <td>15.053</td>\n",
       "      <td>1.468299</td>\n",
       "    </tr>\n",
       "    <tr>\n",
       "      <th>4</th>\n",
       "      <td>1/8/2008</td>\n",
       "      <td>1390.189941</td>\n",
       "      <td>86.779999</td>\n",
       "      <td>76.059998</td>\n",
       "      <td>15.590</td>\n",
       "      <td>1.557099</td>\n",
       "    </tr>\n",
       "  </tbody>\n",
       "</table>\n",
       "</div>"
      ],
      "text/plain": [
       "       Date          SPX        GLD        USO     SLV   EUR/USD\n",
       "0  1/2/2008  1447.160034  84.860001  78.470001  15.180  1.471692\n",
       "1  1/3/2008  1447.160034  85.570000  78.370003  15.285  1.474491\n",
       "2  1/4/2008  1411.630005  85.129997  77.309998  15.167  1.475492\n",
       "3  1/7/2008  1416.180054  84.769997  75.500000  15.053  1.468299\n",
       "4  1/8/2008  1390.189941  86.779999  76.059998  15.590  1.557099"
      ]
     },
     "execution_count": 2,
     "metadata": {},
     "output_type": "execute_result"
    }
   ],
   "source": [
    "df = pd.read_csv('gold price dataset.csv')\n",
    "\n",
    "df.head()"
   ]
  },
  {
   "cell_type": "code",
   "execution_count": 3,
   "metadata": {
    "colab": {
     "base_uri": "https://localhost:8080/"
    },
    "id": "uOa3ch1cOCrS",
    "outputId": "99b84983-7800-48e9-d119-0847c9c2d10b"
   },
   "outputs": [
    {
     "name": "stdout",
     "output_type": "stream",
     "text": [
      "<class 'pandas.core.frame.DataFrame'>\n",
      "RangeIndex: 2290 entries, 0 to 2289\n",
      "Data columns (total 6 columns):\n",
      " #   Column   Non-Null Count  Dtype  \n",
      "---  ------   --------------  -----  \n",
      " 0   Date     2290 non-null   object \n",
      " 1   SPX      2290 non-null   float64\n",
      " 2   GLD      2290 non-null   float64\n",
      " 3   USO      2290 non-null   float64\n",
      " 4   SLV      2290 non-null   float64\n",
      " 5   EUR/USD  2290 non-null   float64\n",
      "dtypes: float64(5), object(1)\n",
      "memory usage: 107.5+ KB\n"
     ]
    }
   ],
   "source": [
    "df.info()"
   ]
  },
  {
   "cell_type": "code",
   "execution_count": 4,
   "metadata": {
    "colab": {
     "base_uri": "https://localhost:8080/",
     "height": 195
    },
    "id": "Uby6qoghOCrT",
    "outputId": "be7ed15e-92c6-4611-e753-88b508b98c6c"
   },
   "outputs": [
    {
     "data": {
      "text/html": [
       "<div>\n",
       "<style scoped>\n",
       "    .dataframe tbody tr th:only-of-type {\n",
       "        vertical-align: middle;\n",
       "    }\n",
       "\n",
       "    .dataframe tbody tr th {\n",
       "        vertical-align: top;\n",
       "    }\n",
       "\n",
       "    .dataframe thead th {\n",
       "        text-align: right;\n",
       "    }\n",
       "</style>\n",
       "<table border=\"1\" class=\"dataframe\">\n",
       "  <thead>\n",
       "    <tr style=\"text-align: right;\">\n",
       "      <th></th>\n",
       "      <th>count</th>\n",
       "      <th>mean</th>\n",
       "      <th>std</th>\n",
       "      <th>min</th>\n",
       "      <th>25%</th>\n",
       "      <th>50%</th>\n",
       "      <th>75%</th>\n",
       "      <th>max</th>\n",
       "    </tr>\n",
       "  </thead>\n",
       "  <tbody>\n",
       "    <tr>\n",
       "      <th>SPX</th>\n",
       "      <td>2290.0</td>\n",
       "      <td>1654.315776</td>\n",
       "      <td>519.111540</td>\n",
       "      <td>676.530029</td>\n",
       "      <td>1239.874969</td>\n",
       "      <td>1551.434998</td>\n",
       "      <td>2073.010070</td>\n",
       "      <td>2872.870117</td>\n",
       "    </tr>\n",
       "    <tr>\n",
       "      <th>GLD</th>\n",
       "      <td>2290.0</td>\n",
       "      <td>122.732875</td>\n",
       "      <td>23.283346</td>\n",
       "      <td>70.000000</td>\n",
       "      <td>109.725000</td>\n",
       "      <td>120.580002</td>\n",
       "      <td>132.840004</td>\n",
       "      <td>184.589996</td>\n",
       "    </tr>\n",
       "    <tr>\n",
       "      <th>USO</th>\n",
       "      <td>2290.0</td>\n",
       "      <td>31.842221</td>\n",
       "      <td>19.523517</td>\n",
       "      <td>7.960000</td>\n",
       "      <td>14.380000</td>\n",
       "      <td>33.869999</td>\n",
       "      <td>37.827501</td>\n",
       "      <td>117.480003</td>\n",
       "    </tr>\n",
       "    <tr>\n",
       "      <th>SLV</th>\n",
       "      <td>2290.0</td>\n",
       "      <td>20.084997</td>\n",
       "      <td>7.092566</td>\n",
       "      <td>8.850000</td>\n",
       "      <td>15.570000</td>\n",
       "      <td>17.268500</td>\n",
       "      <td>22.882499</td>\n",
       "      <td>47.259998</td>\n",
       "    </tr>\n",
       "    <tr>\n",
       "      <th>EUR/USD</th>\n",
       "      <td>2290.0</td>\n",
       "      <td>1.283653</td>\n",
       "      <td>0.131547</td>\n",
       "      <td>1.039047</td>\n",
       "      <td>1.171313</td>\n",
       "      <td>1.303296</td>\n",
       "      <td>1.369971</td>\n",
       "      <td>1.598798</td>\n",
       "    </tr>\n",
       "  </tbody>\n",
       "</table>\n",
       "</div>"
      ],
      "text/plain": [
       "          count         mean         std         min          25%  \\\n",
       "SPX      2290.0  1654.315776  519.111540  676.530029  1239.874969   \n",
       "GLD      2290.0   122.732875   23.283346   70.000000   109.725000   \n",
       "USO      2290.0    31.842221   19.523517    7.960000    14.380000   \n",
       "SLV      2290.0    20.084997    7.092566    8.850000    15.570000   \n",
       "EUR/USD  2290.0     1.283653    0.131547    1.039047     1.171313   \n",
       "\n",
       "                 50%          75%          max  \n",
       "SPX      1551.434998  2073.010070  2872.870117  \n",
       "GLD       120.580002   132.840004   184.589996  \n",
       "USO        33.869999    37.827501   117.480003  \n",
       "SLV        17.268500    22.882499    47.259998  \n",
       "EUR/USD     1.303296     1.369971     1.598798  "
      ]
     },
     "execution_count": 4,
     "metadata": {},
     "output_type": "execute_result"
    }
   ],
   "source": [
    "df.describe().T"
   ]
  },
  {
   "cell_type": "markdown",
   "metadata": {
    "id": "7JOY6aMMOCrU"
   },
   "source": [
    "### Correlation\n",
    "1. Postive Correlation \n",
    "2. Negative Correlation "
   ]
  },
  {
   "cell_type": "code",
   "execution_count": 5,
   "metadata": {
    "colab": {
     "base_uri": "https://localhost:8080/",
     "height": 289
    },
    "id": "kVe8emCoOCrW",
    "outputId": "b95754a4-46a7-4f8d-f8c1-787bc317412d"
   },
   "outputs": [
    {
     "data": {
      "text/plain": [
       "<matplotlib.axes._subplots.AxesSubplot at 0x25d3605ba08>"
      ]
     },
     "execution_count": 5,
     "metadata": {},
     "output_type": "execute_result"
    },
    {
     "data": {
      "image/png": "[encoded data removed]",
      "text/plain": [
       "<Figure size 432x288 with 2 Axes>"
      ]
     },
     "metadata": {
      "needs_background": "light"
     },
     "output_type": "display_data"
    }
   ],
   "source": [
    "sns.heatmap(df.corr(), annot=True)"
   ]
  },
  {
   "cell_type": "code",
   "execution_count": 6,
   "metadata": {
    "colab": {
     "base_uri": "https://localhost:8080/"
    },
    "id": "6nyCTd2TOCrX",
    "outputId": "97a3fb55-cb4b-495f-b43a-180e628c1ede"
   },
   "outputs": [
    {
     "data": {
      "text/plain": [
       "GLD        1.000000\n",
       "SLV        0.866632\n",
       "SPX        0.049345\n",
       "EUR/USD   -0.024375\n",
       "USO       -0.186360\n",
       "Name: GLD, dtype: float64"
      ]
     },
     "execution_count": 6,
     "metadata": {},
     "output_type": "execute_result"
    }
   ],
   "source": [
    "df.corr()['GLD'].sort_values(ascending=False)"
   ]
  },
  {
   "cell_type": "code",
   "execution_count": 7,
   "metadata": {
    "colab": {
     "base_uri": "https://localhost:8080/",
     "height": 354
    },
    "id": "CR8xRMMgOCrY",
    "outputId": "9ac04daf-79d5-4e88-9292-bad79b66865e"
   },
   "outputs": [
    {
     "data": {
      "text/plain": [
       "<matplotlib.axes._subplots.AxesSubplot at 0x25d37dcc3c8>"
      ]
     },
     "execution_count": 7,
     "metadata": {},
     "output_type": "execute_result"
    },
    {
     "data": {
      "image/png": "[encoded data removed]",
      "text/plain": [
       "<Figure size 432x288 with 1 Axes>"
      ]
     },
     "metadata": {
      "needs_background": "light"
     },
     "output_type": "display_data"
    }
   ],
   "source": [
    "# Checking The Distribution of Gold Price ( GLD )\n",
    "\n",
    "sns.distplot(df['GLD'])"
   ]
  },
  {
   "cell_type": "code",
   "execution_count": 7,
   "metadata": {
    "id": "LlRiC1eXOCrZ"
   },
   "outputs": [],
   "source": []
  },
  {
   "cell_type": "code",
   "execution_count": 8,
   "metadata": {
    "colab": {
     "base_uri": "https://localhost:8080/"
    },
    "id": "r334fgucOCra",
    "outputId": "22669f39-050d-4811-ffd4-727e3cb7bc99"
   },
   "outputs": [
    {
     "data": {
      "text/plain": [
       "['SPX', 'GLD', 'USO', 'SLV', 'EUR/USD']"
      ]
     },
     "execution_count": 8,
     "metadata": {},
     "output_type": "execute_result"
    }
   ],
   "source": [
    "# let see out distribution\n",
    "\n",
    "feat = [feat for feat in df.columns if df[feat].dtype != 'O']\n",
    "\n",
    "feat"
   ]
  },
  {
   "cell_type": "code",
   "execution_count": 9,
   "metadata": {
    "colab": {
     "base_uri": "https://localhost:8080/",
     "height": 1000
    },
    "id": "5VaGzpnUOCrb",
    "outputId": "267e2692-2d73-4273-d3ca-8409f02e1852"
   },
   "outputs": [
    {
     "data": {
      "image/png": "[encoded data removed]",
      "text/plain": [
       "<Figure size 432x288 with 1 Axes>"
      ]
     },
     "metadata": {
      "needs_background": "light"
     },
     "output_type": "display_data"
    },
    {
     "data": {
      "image/png": "[encoded data removed]",
      "text/plain": [
       "<Figure size 432x288 with 1 Axes>"
      ]
     },
     "metadata": {
      "needs_background": "light"
     },
     "output_type": "display_data"
    },
    {
     "data": {
      "image/png": "[encoded data removed]",
      "text/plain": [
       "<Figure size 432x288 with 1 Axes>"
      ]
     },
     "metadata": {
      "needs_background": "light"
     },
     "output_type": "display_data"
    },
    {
     "data": {
      "image/png": "[encoded data removed]",
      "text/plain": [
       "<Figure size 432x288 with 1 Axes>"
      ]
     },
     "metadata": {
      "needs_background": "light"
     },
     "output_type": "display_data"
    },
    {
     "data": {
      "image/png": "[encoded data removed]",
      "text/plain": [
       "<Figure size 432x288 with 1 Axes>"
      ]
     },
     "metadata": {
      "needs_background": "light"
     },
     "output_type": "display_data"
    }
   ],
   "source": [
    "for value in feat:\n",
    "    sns.distplot(df[value])\n",
    "    plt.title(value)\n",
    "    plt.show()"
   ]
  },
  {
   "cell_type": "code",
   "execution_count": 10,
   "metadata": {
    "colab": {
     "base_uri": "https://localhost:8080/"
    },
    "id": "blErldhnOCrc",
    "outputId": "6a438b4e-bcc0-4c16-ba98-5bfb9b2c6dc6"
   },
   "outputs": [
    {
     "data": {
      "text/plain": [
       "Index(['Date', 'SPX', 'GLD', 'USO', 'SLV', 'EUR/USD'], dtype='object')"
      ]
     },
     "execution_count": 10,
     "metadata": {
      "tags": []
     },
     "output_type": "execute_result"
    }
   ],
   "source": [
    "df.columns"
   ]
  },
  {
   "cell_type": "code",
   "execution_count": 11,
   "metadata": {
    "id": "ugFxJw0ZOCrd"
   },
   "outputs": [],
   "source": [
    "X = df.drop(['Date','GLD'],axis=1)\n",
    "y = df['GLD']"
   ]
  },
  {
   "cell_type": "markdown",
   "metadata": {},
   "source": [
    "## Train Test Split "
   ]
  },
  {
   "cell_type": "code",
   "execution_count": 12,
   "metadata": {
    "id": "ylHDaUalOCre"
   },
   "outputs": [],
   "source": [
    "from sklearn.model_selection import train_test_split\n",
    "\n",
    "X_train, X_test, y_train, y_test = train_test_split(X, y, test_size=0.33, random_state=42)"
   ]
  },
  {
   "cell_type": "markdown",
   "metadata": {
    "id": "Z6BG0uPtOCrf"
   },
   "source": [
    "## Random Forest "
   ]
  },
  {
   "cell_type": "code",
   "execution_count": 13,
   "metadata": {
    "colab": {
     "base_uri": "https://localhost:8080/"
    },
    "id": "bBVo-pECOCrf",
    "outputId": "c7ee416d-fb8c-4b74-8c6d-881f7bdf96a7"
   },
   "outputs": [
    {
     "name": "stdout",
     "output_type": "stream",
     "text": [
      "0.9908751113693561\n"
     ]
    }
   ],
   "source": [
    "from sklearn.ensemble import RandomForestRegressor\n",
    "\n",
    "rf = RandomForestRegressor()\n",
    "rf.fit(X_train,y_train)\n",
    "rf_pred = rf.predict(X_test)\n",
    "\n",
    "\n",
    "from sklearn.metrics import r2_score\n",
    "print(r2_score(rf_pred , y_test))\n"
   ]
  },
  {
   "cell_type": "code",
   "execution_count": 14,
   "metadata": {
    "colab": {
     "base_uri": "https://localhost:8080/",
     "height": 282
    },
    "id": "gq7O8zeoOCrg",
    "outputId": "148dad6b-1e7e-4b9b-81d6-faf90fe249fe"
   },
   "outputs": [
    {
     "data": {
      "text/plain": [
       "<matplotlib.collections.PathCollection at 0x7f17b5532390>"
      ]
     },
     "execution_count": 14,
     "metadata": {
      "tags": []
     },
     "output_type": "execute_result"
    },
    {
     "data": {
      "image/png": "[encoded data removed]",
      "text/plain": [
       "<Figure size 432x288 with 1 Axes>"
      ]
     },
     "metadata": {
      "needs_background": "light",
      "tags": []
     },
     "output_type": "display_data"
    }
   ],
   "source": [
    "plt.scatter(rf_pred, y_test)"
   ]
  },
  {
   "cell_type": "markdown",
   "metadata": {
    "id": "CYKZrfdfOCrh"
   },
   "source": [
    "### Perfect ....."
   ]
  },
  {
   "cell_type": "markdown",
   "metadata": {
    "id": "WRd1JBqHOCri"
   },
   "source": [
    "# Wow We Get 0.99% Accuracy !!  "
   ]
  },
  {
   "cell_type": "markdown",
   "metadata": {
    "id": "H33mhKOTOCrj"
   },
   "source": [
    "# --------------------------------------------------------------------------------------------------------------"
   ]
  },
  {
   "cell_type": "code",
   "execution_count": 14,
   "metadata": {
    "id": "9WlLGAsSOCrj"
   },
   "outputs": [],
   "source": []
  },
  {
   "cell_type": "markdown",
   "metadata": {
    "id": "gQ6-DN61OCrk"
   },
   "source": [
    "# Let's Now Forcast the Gold Price "
   ]
  },
  {
   "cell_type": "code",
   "execution_count": 15,
   "metadata": {
    "id": "Hpim_yVBOCrk"
   },
   "outputs": [],
   "source": [
    "from fbprophet import Prophet"
   ]
  },
  {
   "cell_type": "code",
   "execution_count": 16,
   "metadata": {
    "colab": {
     "base_uri": "https://localhost:8080/",
     "height": 195
    },
    "id": "nCLWZLQBOmfW",
    "outputId": "8c2fa683-df40-4a7e-e797-6a5233044dca"
   },
   "outputs": [
    {
     "data": {
      "text/html": [
       "<div>\n",
       "<style scoped>\n",
       "    .dataframe tbody tr th:only-of-type {\n",
       "        vertical-align: middle;\n",
       "    }\n",
       "\n",
       "    .dataframe tbody tr th {\n",
       "        vertical-align: top;\n",
       "    }\n",
       "\n",
       "    .dataframe thead th {\n",
       "        text-align: right;\n",
       "    }\n",
       "</style>\n",
       "<table border=\"1\" class=\"dataframe\">\n",
       "  <thead>\n",
       "    <tr style=\"text-align: right;\">\n",
       "      <th></th>\n",
       "      <th>Date</th>\n",
       "      <th>SPX</th>\n",
       "      <th>GLD</th>\n",
       "      <th>USO</th>\n",
       "      <th>SLV</th>\n",
       "      <th>EUR/USD</th>\n",
       "    </tr>\n",
       "  </thead>\n",
       "  <tbody>\n",
       "    <tr>\n",
       "      <th>0</th>\n",
       "      <td>1/2/2008</td>\n",
       "      <td>1447.160034</td>\n",
       "      <td>84.860001</td>\n",
       "      <td>78.470001</td>\n",
       "      <td>15.180</td>\n",
       "      <td>1.471692</td>\n",
       "    </tr>\n",
       "    <tr>\n",
       "      <th>1</th>\n",
       "      <td>1/3/2008</td>\n",
       "      <td>1447.160034</td>\n",
       "      <td>85.570000</td>\n",
       "      <td>78.370003</td>\n",
       "      <td>15.285</td>\n",
       "      <td>1.474491</td>\n",
       "    </tr>\n",
       "    <tr>\n",
       "      <th>2</th>\n",
       "      <td>1/4/2008</td>\n",
       "      <td>1411.630005</td>\n",
       "      <td>85.129997</td>\n",
       "      <td>77.309998</td>\n",
       "      <td>15.167</td>\n",
       "      <td>1.475492</td>\n",
       "    </tr>\n",
       "    <tr>\n",
       "      <th>3</th>\n",
       "      <td>1/7/2008</td>\n",
       "      <td>1416.180054</td>\n",
       "      <td>84.769997</td>\n",
       "      <td>75.500000</td>\n",
       "      <td>15.053</td>\n",
       "      <td>1.468299</td>\n",
       "    </tr>\n",
       "    <tr>\n",
       "      <th>4</th>\n",
       "      <td>1/8/2008</td>\n",
       "      <td>1390.189941</td>\n",
       "      <td>86.779999</td>\n",
       "      <td>76.059998</td>\n",
       "      <td>15.590</td>\n",
       "      <td>1.557099</td>\n",
       "    </tr>\n",
       "  </tbody>\n",
       "</table>\n",
       "</div>"
      ],
      "text/plain": [
       "       Date          SPX        GLD        USO     SLV   EUR/USD\n",
       "0  1/2/2008  1447.160034  84.860001  78.470001  15.180  1.471692\n",
       "1  1/3/2008  1447.160034  85.570000  78.370003  15.285  1.474491\n",
       "2  1/4/2008  1411.630005  85.129997  77.309998  15.167  1.475492\n",
       "3  1/7/2008  1416.180054  84.769997  75.500000  15.053  1.468299\n",
       "4  1/8/2008  1390.189941  86.779999  76.059998  15.590  1.557099"
      ]
     },
     "execution_count": 16,
     "metadata": {
      "tags": []
     },
     "output_type": "execute_result"
    }
   ],
   "source": [
    "df.head()"
   ]
  },
  {
   "cell_type": "code",
   "execution_count": 17,
   "metadata": {
    "id": "wQSUdCW5Oq6s"
   },
   "outputs": [],
   "source": [
    "df['Date'] = pd.to_datetime(df['Date'])"
   ]
  },
  {
   "cell_type": "code",
   "execution_count": 18,
   "metadata": {
    "colab": {
     "base_uri": "https://localhost:8080/",
     "height": 402
    },
    "id": "iIqz0XibO45M",
    "outputId": "35f38872-cf1d-4234-f981-914f3be15c2c"
   },
   "outputs": [
    {
     "data": {
      "text/html": [
       "<div>\n",
       "<style scoped>\n",
       "    .dataframe tbody tr th:only-of-type {\n",
       "        vertical-align: middle;\n",
       "    }\n",
       "\n",
       "    .dataframe tbody tr th {\n",
       "        vertical-align: top;\n",
       "    }\n",
       "\n",
       "    .dataframe thead th {\n",
       "        text-align: right;\n",
       "    }\n",
       "</style>\n",
       "<table border=\"1\" class=\"dataframe\">\n",
       "  <thead>\n",
       "    <tr style=\"text-align: right;\">\n",
       "      <th></th>\n",
       "      <th>Date</th>\n",
       "      <th>GLD</th>\n",
       "    </tr>\n",
       "  </thead>\n",
       "  <tbody>\n",
       "    <tr>\n",
       "      <th>0</th>\n",
       "      <td>2008-01-02</td>\n",
       "      <td>84.860001</td>\n",
       "    </tr>\n",
       "    <tr>\n",
       "      <th>1</th>\n",
       "      <td>2008-01-03</td>\n",
       "      <td>85.570000</td>\n",
       "    </tr>\n",
       "    <tr>\n",
       "      <th>2</th>\n",
       "      <td>2008-01-04</td>\n",
       "      <td>85.129997</td>\n",
       "    </tr>\n",
       "    <tr>\n",
       "      <th>3</th>\n",
       "      <td>2008-01-07</td>\n",
       "      <td>84.769997</td>\n",
       "    </tr>\n",
       "    <tr>\n",
       "      <th>4</th>\n",
       "      <td>2008-01-08</td>\n",
       "      <td>86.779999</td>\n",
       "    </tr>\n",
       "    <tr>\n",
       "      <th>...</th>\n",
       "      <td>...</td>\n",
       "      <td>...</td>\n",
       "    </tr>\n",
       "    <tr>\n",
       "      <th>2285</th>\n",
       "      <td>2018-05-08</td>\n",
       "      <td>124.589996</td>\n",
       "    </tr>\n",
       "    <tr>\n",
       "      <th>2286</th>\n",
       "      <td>2018-05-09</td>\n",
       "      <td>124.330002</td>\n",
       "    </tr>\n",
       "    <tr>\n",
       "      <th>2287</th>\n",
       "      <td>2018-05-10</td>\n",
       "      <td>125.180000</td>\n",
       "    </tr>\n",
       "    <tr>\n",
       "      <th>2288</th>\n",
       "      <td>2018-05-14</td>\n",
       "      <td>124.489998</td>\n",
       "    </tr>\n",
       "    <tr>\n",
       "      <th>2289</th>\n",
       "      <td>2018-05-16</td>\n",
       "      <td>122.543800</td>\n",
       "    </tr>\n",
       "  </tbody>\n",
       "</table>\n",
       "<p>2290 rows × 2 columns</p>\n",
       "</div>"
      ],
      "text/plain": [
       "           Date         GLD\n",
       "0    2008-01-02   84.860001\n",
       "1    2008-01-03   85.570000\n",
       "2    2008-01-04   85.129997\n",
       "3    2008-01-07   84.769997\n",
       "4    2008-01-08   86.779999\n",
       "...         ...         ...\n",
       "2285 2018-05-08  124.589996\n",
       "2286 2018-05-09  124.330002\n",
       "2287 2018-05-10  125.180000\n",
       "2288 2018-05-14  124.489998\n",
       "2289 2018-05-16  122.543800\n",
       "\n",
       "[2290 rows x 2 columns]"
      ]
     },
     "execution_count": 18,
     "metadata": {
      "tags": []
     },
     "output_type": "execute_result"
    }
   ],
   "source": [
    "data = df[['Date','GLD']]\n",
    "\n",
    "data"
   ]
  },
  {
   "cell_type": "code",
   "execution_count": 26,
   "metadata": {
    "colab": {
     "base_uri": "https://localhost:8080/"
    },
    "id": "OXni3C1LP0rc",
    "outputId": "75d357ef-a32e-4d9a-bfae-9d77cc79c240"
   },
   "outputs": [
    {
     "data": {
      "text/plain": [
       "(2290, 6)"
      ]
     },
     "execution_count": 26,
     "metadata": {
      "tags": []
     },
     "output_type": "execute_result"
    }
   ],
   "source": [
    "df.shape"
   ]
  },
  {
   "cell_type": "code",
   "execution_count": 20,
   "metadata": {
    "colab": {
     "base_uri": "https://localhost:8080/"
    },
    "id": "4NskslOMPH6i",
    "outputId": "56af96f7-3ffa-419a-df28-b52e412d758c"
   },
   "outputs": [
    {
     "name": "stdout",
     "output_type": "stream",
     "text": [
      "<class 'pandas.core.frame.DataFrame'>\n",
      "RangeIndex: 2290 entries, 0 to 2289\n",
      "Data columns (total 2 columns):\n",
      " #   Column  Non-Null Count  Dtype         \n",
      "---  ------  --------------  -----         \n",
      " 0   Date    2290 non-null   datetime64[ns]\n",
      " 1   GLD     2290 non-null   float64       \n",
      "dtypes: datetime64[ns](1), float64(1)\n",
      "memory usage: 35.9 KB\n"
     ]
    }
   ],
   "source": [
    "data.info()"
   ]
  },
  {
   "cell_type": "code",
   "execution_count": 21,
   "metadata": {
    "id": "HPXW0afGPOmy"
   },
   "outputs": [],
   "source": [
    "# date = ds(datestamp) and column = (y)\n",
    "# Prophet take datestamp in (YYYY-MM-DD)"
   ]
  },
  {
   "cell_type": "code",
   "execution_count": 22,
   "metadata": {
    "id": "Kj5-6HcRPXXC"
   },
   "outputs": [],
   "source": [
    "data.columns = ['ds','y']"
   ]
  },
  {
   "cell_type": "code",
   "execution_count": 23,
   "metadata": {
    "colab": {
     "base_uri": "https://localhost:8080/",
     "height": 402
    },
    "id": "C9fG9Aa-Pgk9",
    "outputId": "603c6123-3601-4d7c-9fe6-b4ec084cd276"
   },
   "outputs": [
    {
     "data": {
      "text/html": [
       "<div>\n",
       "<style scoped>\n",
       "    .dataframe tbody tr th:only-of-type {\n",
       "        vertical-align: middle;\n",
       "    }\n",
       "\n",
       "    .dataframe tbody tr th {\n",
       "        vertical-align: top;\n",
       "    }\n",
       "\n",
       "    .dataframe thead th {\n",
       "        text-align: right;\n",
       "    }\n",
       "</style>\n",
       "<table border=\"1\" class=\"dataframe\">\n",
       "  <thead>\n",
       "    <tr style=\"text-align: right;\">\n",
       "      <th></th>\n",
       "      <th>ds</th>\n",
       "      <th>y</th>\n",
       "    </tr>\n",
       "  </thead>\n",
       "  <tbody>\n",
       "    <tr>\n",
       "      <th>0</th>\n",
       "      <td>2008-01-02</td>\n",
       "      <td>84.860001</td>\n",
       "    </tr>\n",
       "    <tr>\n",
       "      <th>1</th>\n",
       "      <td>2008-01-03</td>\n",
       "      <td>85.570000</td>\n",
       "    </tr>\n",
       "    <tr>\n",
       "      <th>2</th>\n",
       "      <td>2008-01-04</td>\n",
       "      <td>85.129997</td>\n",
       "    </tr>\n",
       "    <tr>\n",
       "      <th>3</th>\n",
       "      <td>2008-01-07</td>\n",
       "      <td>84.769997</td>\n",
       "    </tr>\n",
       "    <tr>\n",
       "      <th>4</th>\n",
       "      <td>2008-01-08</td>\n",
       "      <td>86.779999</td>\n",
       "    </tr>\n",
       "    <tr>\n",
       "      <th>...</th>\n",
       "      <td>...</td>\n",
       "      <td>...</td>\n",
       "    </tr>\n",
       "    <tr>\n",
       "      <th>2285</th>\n",
       "      <td>2018-05-08</td>\n",
       "      <td>124.589996</td>\n",
       "    </tr>\n",
       "    <tr>\n",
       "      <th>2286</th>\n",
       "      <td>2018-05-09</td>\n",
       "      <td>124.330002</td>\n",
       "    </tr>\n",
       "    <tr>\n",
       "      <th>2287</th>\n",
       "      <td>2018-05-10</td>\n",
       "      <td>125.180000</td>\n",
       "    </tr>\n",
       "    <tr>\n",
       "      <th>2288</th>\n",
       "      <td>2018-05-14</td>\n",
       "      <td>124.489998</td>\n",
       "    </tr>\n",
       "    <tr>\n",
       "      <th>2289</th>\n",
       "      <td>2018-05-16</td>\n",
       "      <td>122.543800</td>\n",
       "    </tr>\n",
       "  </tbody>\n",
       "</table>\n",
       "<p>2290 rows × 2 columns</p>\n",
       "</div>"
      ],
      "text/plain": [
       "             ds           y\n",
       "0    2008-01-02   84.860001\n",
       "1    2008-01-03   85.570000\n",
       "2    2008-01-04   85.129997\n",
       "3    2008-01-07   84.769997\n",
       "4    2008-01-08   86.779999\n",
       "...         ...         ...\n",
       "2285 2018-05-08  124.589996\n",
       "2286 2018-05-09  124.330002\n",
       "2287 2018-05-10  125.180000\n",
       "2288 2018-05-14  124.489998\n",
       "2289 2018-05-16  122.543800\n",
       "\n",
       "[2290 rows x 2 columns]"
      ]
     },
     "execution_count": 23,
     "metadata": {
      "tags": []
     },
     "output_type": "execute_result"
    }
   ],
   "source": [
    "data"
   ]
  },
  {
   "cell_type": "code",
   "execution_count": 25,
   "metadata": {
    "colab": {
     "base_uri": "https://localhost:8080/"
    },
    "id": "t5SGc0cvPjBE",
    "outputId": "c96a0f6b-992d-4fcc-e565-f7eaf20a7fb2"
   },
   "outputs": [
    {
     "name": "stderr",
     "output_type": "stream",
     "text": [
      "INFO:fbprophet:Disabling daily seasonality. Run prophet with daily_seasonality=True to override this.\n"
     ]
    },
    {
     "data": {
      "text/plain": [
       "<fbprophet.forecaster.Prophet at 0x7f17a5bf1510>"
      ]
     },
     "execution_count": 25,
     "metadata": {
      "tags": []
     },
     "output_type": "execute_result"
    }
   ],
   "source": [
    "model = Prophet(interval_width=0.95)  # interval_width is a confindent interval 95% ur model is correct and 5% of error\n",
    "model.fit(data)"
   ]
  },
  {
   "cell_type": "code",
   "execution_count": 27,
   "metadata": {
    "colab": {
     "base_uri": "https://localhost:8080/",
     "height": 1000
    },
    "id": "KmxTcVQNPolq",
    "outputId": "0478c463-01b6-49a4-8693-ee3a38b22547"
   },
   "outputs": [
    {
     "data": {
      "text/html": [
       "<div>\n",
       "<style scoped>\n",
       "    .dataframe tbody tr th:only-of-type {\n",
       "        vertical-align: middle;\n",
       "    }\n",
       "\n",
       "    .dataframe tbody tr th {\n",
       "        vertical-align: top;\n",
       "    }\n",
       "\n",
       "    .dataframe thead th {\n",
       "        text-align: right;\n",
       "    }\n",
       "</style>\n",
       "<table border=\"1\" class=\"dataframe\">\n",
       "  <thead>\n",
       "    <tr style=\"text-align: right;\">\n",
       "      <th></th>\n",
       "      <th>ds</th>\n",
       "    </tr>\n",
       "  </thead>\n",
       "  <tbody>\n",
       "    <tr>\n",
       "      <th>2290</th>\n",
       "      <td>2018-05-17</td>\n",
       "    </tr>\n",
       "    <tr>\n",
       "      <th>2291</th>\n",
       "      <td>2018-05-18</td>\n",
       "    </tr>\n",
       "    <tr>\n",
       "      <th>2292</th>\n",
       "      <td>2018-05-19</td>\n",
       "    </tr>\n",
       "    <tr>\n",
       "      <th>2293</th>\n",
       "      <td>2018-05-20</td>\n",
       "    </tr>\n",
       "    <tr>\n",
       "      <th>2294</th>\n",
       "      <td>2018-05-21</td>\n",
       "    </tr>\n",
       "    <tr>\n",
       "      <th>2295</th>\n",
       "      <td>2018-05-22</td>\n",
       "    </tr>\n",
       "    <tr>\n",
       "      <th>2296</th>\n",
       "      <td>2018-05-23</td>\n",
       "    </tr>\n",
       "    <tr>\n",
       "      <th>2297</th>\n",
       "      <td>2018-05-24</td>\n",
       "    </tr>\n",
       "    <tr>\n",
       "      <th>2298</th>\n",
       "      <td>2018-05-25</td>\n",
       "    </tr>\n",
       "    <tr>\n",
       "      <th>2299</th>\n",
       "      <td>2018-05-26</td>\n",
       "    </tr>\n",
       "    <tr>\n",
       "      <th>2300</th>\n",
       "      <td>2018-05-27</td>\n",
       "    </tr>\n",
       "    <tr>\n",
       "      <th>2301</th>\n",
       "      <td>2018-05-28</td>\n",
       "    </tr>\n",
       "    <tr>\n",
       "      <th>2302</th>\n",
       "      <td>2018-05-29</td>\n",
       "    </tr>\n",
       "    <tr>\n",
       "      <th>2303</th>\n",
       "      <td>2018-05-30</td>\n",
       "    </tr>\n",
       "    <tr>\n",
       "      <th>2304</th>\n",
       "      <td>2018-05-31</td>\n",
       "    </tr>\n",
       "    <tr>\n",
       "      <th>2305</th>\n",
       "      <td>2018-06-01</td>\n",
       "    </tr>\n",
       "    <tr>\n",
       "      <th>2306</th>\n",
       "      <td>2018-06-02</td>\n",
       "    </tr>\n",
       "    <tr>\n",
       "      <th>2307</th>\n",
       "      <td>2018-06-03</td>\n",
       "    </tr>\n",
       "    <tr>\n",
       "      <th>2308</th>\n",
       "      <td>2018-06-04</td>\n",
       "    </tr>\n",
       "    <tr>\n",
       "      <th>2309</th>\n",
       "      <td>2018-06-05</td>\n",
       "    </tr>\n",
       "    <tr>\n",
       "      <th>2310</th>\n",
       "      <td>2018-06-06</td>\n",
       "    </tr>\n",
       "    <tr>\n",
       "      <th>2311</th>\n",
       "      <td>2018-06-07</td>\n",
       "    </tr>\n",
       "    <tr>\n",
       "      <th>2312</th>\n",
       "      <td>2018-06-08</td>\n",
       "    </tr>\n",
       "    <tr>\n",
       "      <th>2313</th>\n",
       "      <td>2018-06-09</td>\n",
       "    </tr>\n",
       "    <tr>\n",
       "      <th>2314</th>\n",
       "      <td>2018-06-10</td>\n",
       "    </tr>\n",
       "    <tr>\n",
       "      <th>2315</th>\n",
       "      <td>2018-06-11</td>\n",
       "    </tr>\n",
       "    <tr>\n",
       "      <th>2316</th>\n",
       "      <td>2018-06-12</td>\n",
       "    </tr>\n",
       "    <tr>\n",
       "      <th>2317</th>\n",
       "      <td>2018-06-13</td>\n",
       "    </tr>\n",
       "    <tr>\n",
       "      <th>2318</th>\n",
       "      <td>2018-06-14</td>\n",
       "    </tr>\n",
       "    <tr>\n",
       "      <th>2319</th>\n",
       "      <td>2018-06-15</td>\n",
       "    </tr>\n",
       "    <tr>\n",
       "      <th>2320</th>\n",
       "      <td>2018-06-16</td>\n",
       "    </tr>\n",
       "    <tr>\n",
       "      <th>2321</th>\n",
       "      <td>2018-06-17</td>\n",
       "    </tr>\n",
       "    <tr>\n",
       "      <th>2322</th>\n",
       "      <td>2018-06-18</td>\n",
       "    </tr>\n",
       "    <tr>\n",
       "      <th>2323</th>\n",
       "      <td>2018-06-19</td>\n",
       "    </tr>\n",
       "    <tr>\n",
       "      <th>2324</th>\n",
       "      <td>2018-06-20</td>\n",
       "    </tr>\n",
       "  </tbody>\n",
       "</table>\n",
       "</div>"
      ],
      "text/plain": [
       "             ds\n",
       "2290 2018-05-17\n",
       "2291 2018-05-18\n",
       "2292 2018-05-19\n",
       "2293 2018-05-20\n",
       "2294 2018-05-21\n",
       "2295 2018-05-22\n",
       "2296 2018-05-23\n",
       "2297 2018-05-24\n",
       "2298 2018-05-25\n",
       "2299 2018-05-26\n",
       "2300 2018-05-27\n",
       "2301 2018-05-28\n",
       "2302 2018-05-29\n",
       "2303 2018-05-30\n",
       "2304 2018-05-31\n",
       "2305 2018-06-01\n",
       "2306 2018-06-02\n",
       "2307 2018-06-03\n",
       "2308 2018-06-04\n",
       "2309 2018-06-05\n",
       "2310 2018-06-06\n",
       "2311 2018-06-07\n",
       "2312 2018-06-08\n",
       "2313 2018-06-09\n",
       "2314 2018-06-10\n",
       "2315 2018-06-11\n",
       "2316 2018-06-12\n",
       "2317 2018-06-13\n",
       "2318 2018-06-14\n",
       "2319 2018-06-15\n",
       "2320 2018-06-16\n",
       "2321 2018-06-17\n",
       "2322 2018-06-18\n",
       "2323 2018-06-19\n",
       "2324 2018-06-20"
      ]
     },
     "execution_count": 27,
     "metadata": {
      "tags": []
     },
     "output_type": "execute_result"
    }
   ],
   "source": [
    "# Creating Feature Date DataFrame \n",
    "\n",
    "feature = model.make_future_dataframe(periods=35) # we have to predict next 35 days\n",
    "feature.tail(35)"
   ]
  },
  {
   "cell_type": "code",
   "execution_count": 28,
   "metadata": {
    "id": "KL0JPHFHQE1E"
   },
   "outputs": [],
   "source": [
    "forecast = model.predict(feature)"
   ]
  },
  {
   "cell_type": "code",
   "execution_count": 29,
   "metadata": {
    "colab": {
     "base_uri": "https://localhost:8080/",
     "height": 590
    },
    "id": "3sMLsGQdQSp8",
    "outputId": "e9a852f0-feca-4a28-da57-9a88e3e7c0e6"
   },
   "outputs": [
    {
     "data": {
      "text/html": [
       "<div>\n",
       "<style scoped>\n",
       "    .dataframe tbody tr th:only-of-type {\n",
       "        vertical-align: middle;\n",
       "    }\n",
       "\n",
       "    .dataframe tbody tr th {\n",
       "        vertical-align: top;\n",
       "    }\n",
       "\n",
       "    .dataframe thead th {\n",
       "        text-align: right;\n",
       "    }\n",
       "</style>\n",
       "<table border=\"1\" class=\"dataframe\">\n",
       "  <thead>\n",
       "    <tr style=\"text-align: right;\">\n",
       "      <th></th>\n",
       "      <th>ds</th>\n",
       "      <th>trend</th>\n",
       "      <th>yhat_lower</th>\n",
       "      <th>yhat_upper</th>\n",
       "      <th>trend_lower</th>\n",
       "      <th>trend_upper</th>\n",
       "      <th>additive_terms</th>\n",
       "      <th>additive_terms_lower</th>\n",
       "      <th>additive_terms_upper</th>\n",
       "      <th>weekly</th>\n",
       "      <th>weekly_lower</th>\n",
       "      <th>weekly_upper</th>\n",
       "      <th>yearly</th>\n",
       "      <th>yearly_lower</th>\n",
       "      <th>yearly_upper</th>\n",
       "      <th>multiplicative_terms</th>\n",
       "      <th>multiplicative_terms_lower</th>\n",
       "      <th>multiplicative_terms_upper</th>\n",
       "      <th>yhat</th>\n",
       "    </tr>\n",
       "  </thead>\n",
       "  <tbody>\n",
       "    <tr>\n",
       "      <th>0</th>\n",
       "      <td>2008-01-02</td>\n",
       "      <td>91.983797</td>\n",
       "      <td>80.667777</td>\n",
       "      <td>99.165335</td>\n",
       "      <td>91.983797</td>\n",
       "      <td>91.983797</td>\n",
       "      <td>-1.779319</td>\n",
       "      <td>-1.779319</td>\n",
       "      <td>-1.779319</td>\n",
       "      <td>1.573814</td>\n",
       "      <td>1.573814</td>\n",
       "      <td>1.573814</td>\n",
       "      <td>-3.353132</td>\n",
       "      <td>-3.353132</td>\n",
       "      <td>-3.353132</td>\n",
       "      <td>0.0</td>\n",
       "      <td>0.0</td>\n",
       "      <td>0.0</td>\n",
       "      <td>90.204478</td>\n",
       "    </tr>\n",
       "    <tr>\n",
       "      <th>1</th>\n",
       "      <td>2008-01-03</td>\n",
       "      <td>91.939244</td>\n",
       "      <td>80.587742</td>\n",
       "      <td>99.955000</td>\n",
       "      <td>91.939244</td>\n",
       "      <td>91.939244</td>\n",
       "      <td>-1.686553</td>\n",
       "      <td>-1.686553</td>\n",
       "      <td>-1.686553</td>\n",
       "      <td>1.517529</td>\n",
       "      <td>1.517529</td>\n",
       "      <td>1.517529</td>\n",
       "      <td>-3.204082</td>\n",
       "      <td>-3.204082</td>\n",
       "      <td>-3.204082</td>\n",
       "      <td>0.0</td>\n",
       "      <td>0.0</td>\n",
       "      <td>0.0</td>\n",
       "      <td>90.252691</td>\n",
       "    </tr>\n",
       "    <tr>\n",
       "      <th>2</th>\n",
       "      <td>2008-01-04</td>\n",
       "      <td>91.894691</td>\n",
       "      <td>80.901383</td>\n",
       "      <td>99.885637</td>\n",
       "      <td>91.894691</td>\n",
       "      <td>91.894691</td>\n",
       "      <td>-1.521237</td>\n",
       "      <td>-1.521237</td>\n",
       "      <td>-1.521237</td>\n",
       "      <td>1.523039</td>\n",
       "      <td>1.523039</td>\n",
       "      <td>1.523039</td>\n",
       "      <td>-3.044275</td>\n",
       "      <td>-3.044275</td>\n",
       "      <td>-3.044275</td>\n",
       "      <td>0.0</td>\n",
       "      <td>0.0</td>\n",
       "      <td>0.0</td>\n",
       "      <td>90.373455</td>\n",
       "    </tr>\n",
       "    <tr>\n",
       "      <th>3</th>\n",
       "      <td>2008-01-07</td>\n",
       "      <td>91.761033</td>\n",
       "      <td>82.047537</td>\n",
       "      <td>99.690018</td>\n",
       "      <td>91.761033</td>\n",
       "      <td>91.761033</td>\n",
       "      <td>-0.909164</td>\n",
       "      <td>-0.909164</td>\n",
       "      <td>-0.909164</td>\n",
       "      <td>1.617029</td>\n",
       "      <td>1.617029</td>\n",
       "      <td>1.617029</td>\n",
       "      <td>-2.526193</td>\n",
       "      <td>-2.526193</td>\n",
       "      <td>-2.526193</td>\n",
       "      <td>0.0</td>\n",
       "      <td>0.0</td>\n",
       "      <td>0.0</td>\n",
       "      <td>90.851869</td>\n",
       "    </tr>\n",
       "    <tr>\n",
       "      <th>4</th>\n",
       "      <td>2008-01-08</td>\n",
       "      <td>91.716480</td>\n",
       "      <td>82.282823</td>\n",
       "      <td>99.843303</td>\n",
       "      <td>91.716480</td>\n",
       "      <td>91.716480</td>\n",
       "      <td>-0.782873</td>\n",
       "      <td>-0.782873</td>\n",
       "      <td>-0.782873</td>\n",
       "      <td>1.566340</td>\n",
       "      <td>1.566340</td>\n",
       "      <td>1.566340</td>\n",
       "      <td>-2.349213</td>\n",
       "      <td>-2.349213</td>\n",
       "      <td>-2.349213</td>\n",
       "      <td>0.0</td>\n",
       "      <td>0.0</td>\n",
       "      <td>0.0</td>\n",
       "      <td>90.933608</td>\n",
       "    </tr>\n",
       "    <tr>\n",
       "      <th>...</th>\n",
       "      <td>...</td>\n",
       "      <td>...</td>\n",
       "      <td>...</td>\n",
       "      <td>...</td>\n",
       "      <td>...</td>\n",
       "      <td>...</td>\n",
       "      <td>...</td>\n",
       "      <td>...</td>\n",
       "      <td>...</td>\n",
       "      <td>...</td>\n",
       "      <td>...</td>\n",
       "      <td>...</td>\n",
       "      <td>...</td>\n",
       "      <td>...</td>\n",
       "      <td>...</td>\n",
       "      <td>...</td>\n",
       "      <td>...</td>\n",
       "      <td>...</td>\n",
       "      <td>...</td>\n",
       "    </tr>\n",
       "    <tr>\n",
       "      <th>2320</th>\n",
       "      <td>2018-06-16</td>\n",
       "      <td>122.958358</td>\n",
       "      <td>109.104257</td>\n",
       "      <td>127.872163</td>\n",
       "      <td>122.265801</td>\n",
       "      <td>123.459332</td>\n",
       "      <td>-4.762054</td>\n",
       "      <td>-4.762054</td>\n",
       "      <td>-4.762054</td>\n",
       "      <td>-3.898875</td>\n",
       "      <td>-3.898875</td>\n",
       "      <td>-3.898875</td>\n",
       "      <td>-0.863178</td>\n",
       "      <td>-0.863178</td>\n",
       "      <td>-0.863178</td>\n",
       "      <td>0.0</td>\n",
       "      <td>0.0</td>\n",
       "      <td>0.0</td>\n",
       "      <td>118.196305</td>\n",
       "    </tr>\n",
       "    <tr>\n",
       "      <th>2321</th>\n",
       "      <td>2018-06-17</td>\n",
       "      <td>122.967110</td>\n",
       "      <td>109.132487</td>\n",
       "      <td>127.732353</td>\n",
       "      <td>122.231182</td>\n",
       "      <td>123.545561</td>\n",
       "      <td>-4.823206</td>\n",
       "      <td>-4.823206</td>\n",
       "      <td>-4.823206</td>\n",
       "      <td>-3.898875</td>\n",
       "      <td>-3.898875</td>\n",
       "      <td>-3.898875</td>\n",
       "      <td>-0.924331</td>\n",
       "      <td>-0.924331</td>\n",
       "      <td>-0.924331</td>\n",
       "      <td>0.0</td>\n",
       "      <td>0.0</td>\n",
       "      <td>0.0</td>\n",
       "      <td>118.143904</td>\n",
       "    </tr>\n",
       "    <tr>\n",
       "      <th>2322</th>\n",
       "      <td>2018-06-18</td>\n",
       "      <td>122.975861</td>\n",
       "      <td>113.769475</td>\n",
       "      <td>132.975687</td>\n",
       "      <td>122.203128</td>\n",
       "      <td>123.599650</td>\n",
       "      <td>0.627992</td>\n",
       "      <td>0.627992</td>\n",
       "      <td>0.627992</td>\n",
       "      <td>1.617029</td>\n",
       "      <td>1.617029</td>\n",
       "      <td>1.617029</td>\n",
       "      <td>-0.989037</td>\n",
       "      <td>-0.989037</td>\n",
       "      <td>-0.989037</td>\n",
       "      <td>0.0</td>\n",
       "      <td>0.0</td>\n",
       "      <td>0.0</td>\n",
       "      <td>123.603854</td>\n",
       "    </tr>\n",
       "    <tr>\n",
       "      <th>2323</th>\n",
       "      <td>2018-06-19</td>\n",
       "      <td>122.984613</td>\n",
       "      <td>113.171626</td>\n",
       "      <td>131.902464</td>\n",
       "      <td>122.170215</td>\n",
       "      <td>123.648205</td>\n",
       "      <td>0.510525</td>\n",
       "      <td>0.510525</td>\n",
       "      <td>0.510525</td>\n",
       "      <td>1.566340</td>\n",
       "      <td>1.566340</td>\n",
       "      <td>1.566340</td>\n",
       "      <td>-1.055814</td>\n",
       "      <td>-1.055814</td>\n",
       "      <td>-1.055814</td>\n",
       "      <td>0.0</td>\n",
       "      <td>0.0</td>\n",
       "      <td>0.0</td>\n",
       "      <td>123.495138</td>\n",
       "    </tr>\n",
       "    <tr>\n",
       "      <th>2324</th>\n",
       "      <td>2018-06-20</td>\n",
       "      <td>122.993364</td>\n",
       "      <td>114.622915</td>\n",
       "      <td>132.511229</td>\n",
       "      <td>122.128503</td>\n",
       "      <td>123.676887</td>\n",
       "      <td>0.450675</td>\n",
       "      <td>0.450675</td>\n",
       "      <td>0.450675</td>\n",
       "      <td>1.573814</td>\n",
       "      <td>1.573814</td>\n",
       "      <td>1.573814</td>\n",
       "      <td>-1.123139</td>\n",
       "      <td>-1.123139</td>\n",
       "      <td>-1.123139</td>\n",
       "      <td>0.0</td>\n",
       "      <td>0.0</td>\n",
       "      <td>0.0</td>\n",
       "      <td>123.444039</td>\n",
       "    </tr>\n",
       "  </tbody>\n",
       "</table>\n",
       "<p>2325 rows × 19 columns</p>\n",
       "</div>"
      ],
      "text/plain": [
       "             ds       trend  ...  multiplicative_terms_upper        yhat\n",
       "0    2008-01-02   91.983797  ...                         0.0   90.204478\n",
       "1    2008-01-03   91.939244  ...                         0.0   90.252691\n",
       "2    2008-01-04   91.894691  ...                         0.0   90.373455\n",
       "3    2008-01-07   91.761033  ...                         0.0   90.851869\n",
       "4    2008-01-08   91.716480  ...                         0.0   90.933608\n",
       "...         ...         ...  ...                         ...         ...\n",
       "2320 2018-06-16  122.958358  ...                         0.0  118.196305\n",
       "2321 2018-06-17  122.967110  ...                         0.0  118.143904\n",
       "2322 2018-06-18  122.975861  ...                         0.0  123.603854\n",
       "2323 2018-06-19  122.984613  ...                         0.0  123.495138\n",
       "2324 2018-06-20  122.993364  ...                         0.0  123.444039\n",
       "\n",
       "[2325 rows x 19 columns]"
      ]
     },
     "execution_count": 29,
     "metadata": {
      "tags": []
     },
     "output_type": "execute_result"
    }
   ],
   "source": [
    "forecast"
   ]
  },
  {
   "cell_type": "code",
   "execution_count": 31,
   "metadata": {
    "colab": {
     "base_uri": "https://localhost:8080/",
     "height": 1000
    },
    "id": "ZMq8u2jtQYPF",
    "outputId": "9adc41ce-f65f-4541-bbe1-be5e847f2b3f"
   },
   "outputs": [
    {
     "data": {
      "text/html": [
       "<div>\n",
       "<style scoped>\n",
       "    .dataframe tbody tr th:only-of-type {\n",
       "        vertical-align: middle;\n",
       "    }\n",
       "\n",
       "    .dataframe tbody tr th {\n",
       "        vertical-align: top;\n",
       "    }\n",
       "\n",
       "    .dataframe thead th {\n",
       "        text-align: right;\n",
       "    }\n",
       "</style>\n",
       "<table border=\"1\" class=\"dataframe\">\n",
       "  <thead>\n",
       "    <tr style=\"text-align: right;\">\n",
       "      <th></th>\n",
       "      <th>ds</th>\n",
       "      <th>yhat</th>\n",
       "      <th>yhat_lower</th>\n",
       "      <th>yhat_upper</th>\n",
       "    </tr>\n",
       "  </thead>\n",
       "  <tbody>\n",
       "    <tr>\n",
       "      <th>2275</th>\n",
       "      <td>2018-04-19</td>\n",
       "      <td>123.634187</td>\n",
       "      <td>114.861861</td>\n",
       "      <td>132.578293</td>\n",
       "    </tr>\n",
       "    <tr>\n",
       "      <th>2276</th>\n",
       "      <td>2018-04-23</td>\n",
       "      <td>123.800083</td>\n",
       "      <td>114.464721</td>\n",
       "      <td>132.353217</td>\n",
       "    </tr>\n",
       "    <tr>\n",
       "      <th>2277</th>\n",
       "      <td>2018-04-24</td>\n",
       "      <td>123.767928</td>\n",
       "      <td>114.630837</td>\n",
       "      <td>133.040891</td>\n",
       "    </tr>\n",
       "    <tr>\n",
       "      <th>2278</th>\n",
       "      <td>2018-04-25</td>\n",
       "      <td>123.792636</td>\n",
       "      <td>114.810744</td>\n",
       "      <td>132.555537</td>\n",
       "    </tr>\n",
       "    <tr>\n",
       "      <th>2279</th>\n",
       "      <td>2018-04-26</td>\n",
       "      <td>123.751239</td>\n",
       "      <td>114.717747</td>\n",
       "      <td>133.541521</td>\n",
       "    </tr>\n",
       "    <tr>\n",
       "      <th>2280</th>\n",
       "      <td>2018-04-30</td>\n",
       "      <td>123.868278</td>\n",
       "      <td>115.128011</td>\n",
       "      <td>133.447235</td>\n",
       "    </tr>\n",
       "    <tr>\n",
       "      <th>2281</th>\n",
       "      <td>2018-05-01</td>\n",
       "      <td>123.807831</td>\n",
       "      <td>114.670218</td>\n",
       "      <td>132.943068</td>\n",
       "    </tr>\n",
       "    <tr>\n",
       "      <th>2282</th>\n",
       "      <td>2018-05-02</td>\n",
       "      <td>123.798974</td>\n",
       "      <td>114.408798</td>\n",
       "      <td>133.202980</td>\n",
       "    </tr>\n",
       "    <tr>\n",
       "      <th>2283</th>\n",
       "      <td>2018-05-03</td>\n",
       "      <td>123.719653</td>\n",
       "      <td>115.022810</td>\n",
       "      <td>133.058627</td>\n",
       "    </tr>\n",
       "    <tr>\n",
       "      <th>2284</th>\n",
       "      <td>2018-05-07</td>\n",
       "      <td>123.664409</td>\n",
       "      <td>114.318818</td>\n",
       "      <td>132.924308</td>\n",
       "    </tr>\n",
       "    <tr>\n",
       "      <th>2285</th>\n",
       "      <td>2018-05-08</td>\n",
       "      <td>123.562239</td>\n",
       "      <td>114.476567</td>\n",
       "      <td>132.697439</td>\n",
       "    </tr>\n",
       "    <tr>\n",
       "      <th>2286</th>\n",
       "      <td>2018-05-09</td>\n",
       "      <td>123.514884</td>\n",
       "      <td>113.596694</td>\n",
       "      <td>132.117433</td>\n",
       "    </tr>\n",
       "    <tr>\n",
       "      <th>2287</th>\n",
       "      <td>2018-05-10</td>\n",
       "      <td>123.401562</td>\n",
       "      <td>113.621763</td>\n",
       "      <td>132.033646</td>\n",
       "    </tr>\n",
       "    <tr>\n",
       "      <th>2288</th>\n",
       "      <td>2018-05-14</td>\n",
       "      <td>123.276545</td>\n",
       "      <td>113.808433</td>\n",
       "      <td>132.692741</td>\n",
       "    </tr>\n",
       "    <tr>\n",
       "      <th>2289</th>\n",
       "      <td>2018-05-16</td>\n",
       "      <td>123.141752</td>\n",
       "      <td>113.161296</td>\n",
       "      <td>132.556503</td>\n",
       "    </tr>\n",
       "    <tr>\n",
       "      <th>2290</th>\n",
       "      <td>2018-05-17</td>\n",
       "      <td>123.049135</td>\n",
       "      <td>113.966172</td>\n",
       "      <td>133.185118</td>\n",
       "    </tr>\n",
       "    <tr>\n",
       "      <th>2291</th>\n",
       "      <td>2018-05-18</td>\n",
       "      <td>123.025948</td>\n",
       "      <td>114.370424</td>\n",
       "      <td>132.578586</td>\n",
       "    </tr>\n",
       "    <tr>\n",
       "      <th>2292</th>\n",
       "      <td>2018-05-19</td>\n",
       "      <td>117.583762</td>\n",
       "      <td>108.465929</td>\n",
       "      <td>127.147784</td>\n",
       "    </tr>\n",
       "    <tr>\n",
       "      <th>2293</th>\n",
       "      <td>2018-05-20</td>\n",
       "      <td>117.572499</td>\n",
       "      <td>108.826828</td>\n",
       "      <td>126.367576</td>\n",
       "    </tr>\n",
       "    <tr>\n",
       "      <th>2294</th>\n",
       "      <td>2018-05-21</td>\n",
       "      <td>123.086517</td>\n",
       "      <td>114.439611</td>\n",
       "      <td>132.416080</td>\n",
       "    </tr>\n",
       "    <tr>\n",
       "      <th>2295</th>\n",
       "      <td>2018-05-22</td>\n",
       "      <td>123.043454</td>\n",
       "      <td>113.916636</td>\n",
       "      <td>132.084050</td>\n",
       "    </tr>\n",
       "    <tr>\n",
       "      <th>2296</th>\n",
       "      <td>2018-05-23</td>\n",
       "      <td>123.067961</td>\n",
       "      <td>114.105131</td>\n",
       "      <td>132.126296</td>\n",
       "    </tr>\n",
       "    <tr>\n",
       "      <th>2297</th>\n",
       "      <td>2018-05-24</td>\n",
       "      <td>123.037772</td>\n",
       "      <td>114.190487</td>\n",
       "      <td>131.659748</td>\n",
       "    </tr>\n",
       "    <tr>\n",
       "      <th>2298</th>\n",
       "      <td>2018-05-25</td>\n",
       "      <td>123.077862</td>\n",
       "      <td>113.961274</td>\n",
       "      <td>132.114016</td>\n",
       "    </tr>\n",
       "    <tr>\n",
       "      <th>2299</th>\n",
       "      <td>2018-05-26</td>\n",
       "      <td>117.698213</td>\n",
       "      <td>108.538939</td>\n",
       "      <td>126.673411</td>\n",
       "    </tr>\n",
       "    <tr>\n",
       "      <th>2300</th>\n",
       "      <td>2018-05-27</td>\n",
       "      <td>117.747162</td>\n",
       "      <td>108.737142</td>\n",
       "      <td>127.070504</td>\n",
       "    </tr>\n",
       "    <tr>\n",
       "      <th>2301</th>\n",
       "      <td>2018-05-28</td>\n",
       "      <td>123.317520</td>\n",
       "      <td>113.491902</td>\n",
       "      <td>132.062454</td>\n",
       "    </tr>\n",
       "    <tr>\n",
       "      <th>2302</th>\n",
       "      <td>2018-05-29</td>\n",
       "      <td>123.325465</td>\n",
       "      <td>113.381313</td>\n",
       "      <td>132.545611</td>\n",
       "    </tr>\n",
       "    <tr>\n",
       "      <th>2303</th>\n",
       "      <td>2018-05-30</td>\n",
       "      <td>123.394312</td>\n",
       "      <td>114.173967</td>\n",
       "      <td>133.022704</td>\n",
       "    </tr>\n",
       "    <tr>\n",
       "      <th>2304</th>\n",
       "      <td>2018-05-31</td>\n",
       "      <td>123.400624</td>\n",
       "      <td>113.919881</td>\n",
       "      <td>132.683809</td>\n",
       "    </tr>\n",
       "    <tr>\n",
       "      <th>2305</th>\n",
       "      <td>2018-06-01</td>\n",
       "      <td>123.468400</td>\n",
       "      <td>114.739206</td>\n",
       "      <td>133.534157</td>\n",
       "    </tr>\n",
       "    <tr>\n",
       "      <th>2306</th>\n",
       "      <td>2018-06-02</td>\n",
       "      <td>118.106873</td>\n",
       "      <td>109.297383</td>\n",
       "      <td>126.892443</td>\n",
       "    </tr>\n",
       "    <tr>\n",
       "      <th>2307</th>\n",
       "      <td>2018-06-03</td>\n",
       "      <td>118.163877</td>\n",
       "      <td>109.006424</td>\n",
       "      <td>127.952639</td>\n",
       "    </tr>\n",
       "    <tr>\n",
       "      <th>2308</th>\n",
       "      <td>2018-06-04</td>\n",
       "      <td>123.731980</td>\n",
       "      <td>114.508577</td>\n",
       "      <td>132.585006</td>\n",
       "    </tr>\n",
       "    <tr>\n",
       "      <th>2309</th>\n",
       "      <td>2018-06-05</td>\n",
       "      <td>123.727389</td>\n",
       "      <td>114.610181</td>\n",
       "      <td>132.426308</td>\n",
       "    </tr>\n",
       "    <tr>\n",
       "      <th>2310</th>\n",
       "      <td>2018-06-06</td>\n",
       "      <td>123.773719</td>\n",
       "      <td>114.558862</td>\n",
       "      <td>132.656139</td>\n",
       "    </tr>\n",
       "    <tr>\n",
       "      <th>2311</th>\n",
       "      <td>2018-06-07</td>\n",
       "      <td>123.748095</td>\n",
       "      <td>113.933256</td>\n",
       "      <td>132.329448</td>\n",
       "    </tr>\n",
       "    <tr>\n",
       "      <th>2312</th>\n",
       "      <td>2018-06-08</td>\n",
       "      <td>123.775329</td>\n",
       "      <td>114.091751</td>\n",
       "      <td>133.283975</td>\n",
       "    </tr>\n",
       "    <tr>\n",
       "      <th>2313</th>\n",
       "      <td>2018-06-09</td>\n",
       "      <td>118.365694</td>\n",
       "      <td>109.326767</td>\n",
       "      <td>127.362370</td>\n",
       "    </tr>\n",
       "    <tr>\n",
       "      <th>2314</th>\n",
       "      <td>2018-06-10</td>\n",
       "      <td>118.368265</td>\n",
       "      <td>109.038177</td>\n",
       "      <td>127.770365</td>\n",
       "    </tr>\n",
       "    <tr>\n",
       "      <th>2315</th>\n",
       "      <td>2018-06-11</td>\n",
       "      <td>123.877021</td>\n",
       "      <td>114.530831</td>\n",
       "      <td>133.393220</td>\n",
       "    </tr>\n",
       "    <tr>\n",
       "      <th>2316</th>\n",
       "      <td>2018-06-12</td>\n",
       "      <td>123.809706</td>\n",
       "      <td>114.550573</td>\n",
       "      <td>132.508523</td>\n",
       "    </tr>\n",
       "    <tr>\n",
       "      <th>2317</th>\n",
       "      <td>2018-06-13</td>\n",
       "      <td>123.791564</td>\n",
       "      <td>114.721064</td>\n",
       "      <td>132.728587</td>\n",
       "    </tr>\n",
       "    <tr>\n",
       "      <th>2318</th>\n",
       "      <td>2018-06-14</td>\n",
       "      <td>123.701391</td>\n",
       "      <td>113.964892</td>\n",
       "      <td>132.818804</td>\n",
       "    </tr>\n",
       "    <tr>\n",
       "      <th>2319</th>\n",
       "      <td>2018-06-15</td>\n",
       "      <td>123.665671</td>\n",
       "      <td>114.410574</td>\n",
       "      <td>133.368939</td>\n",
       "    </tr>\n",
       "    <tr>\n",
       "      <th>2320</th>\n",
       "      <td>2018-06-16</td>\n",
       "      <td>118.196305</td>\n",
       "      <td>109.104257</td>\n",
       "      <td>127.872163</td>\n",
       "    </tr>\n",
       "    <tr>\n",
       "      <th>2321</th>\n",
       "      <td>2018-06-17</td>\n",
       "      <td>118.143904</td>\n",
       "      <td>109.132487</td>\n",
       "      <td>127.732353</td>\n",
       "    </tr>\n",
       "    <tr>\n",
       "      <th>2322</th>\n",
       "      <td>2018-06-18</td>\n",
       "      <td>123.603854</td>\n",
       "      <td>113.769475</td>\n",
       "      <td>132.975687</td>\n",
       "    </tr>\n",
       "    <tr>\n",
       "      <th>2323</th>\n",
       "      <td>2018-06-19</td>\n",
       "      <td>123.495138</td>\n",
       "      <td>113.171626</td>\n",
       "      <td>131.902464</td>\n",
       "    </tr>\n",
       "    <tr>\n",
       "      <th>2324</th>\n",
       "      <td>2018-06-20</td>\n",
       "      <td>123.444039</td>\n",
       "      <td>114.622915</td>\n",
       "      <td>132.511229</td>\n",
       "    </tr>\n",
       "  </tbody>\n",
       "</table>\n",
       "</div>"
      ],
      "text/plain": [
       "             ds        yhat  yhat_lower  yhat_upper\n",
       "2275 2018-04-19  123.634187  114.861861  132.578293\n",
       "2276 2018-04-23  123.800083  114.464721  132.353217\n",
       "2277 2018-04-24  123.767928  114.630837  133.040891\n",
       "2278 2018-04-25  123.792636  114.810744  132.555537\n",
       "2279 2018-04-26  123.751239  114.717747  133.541521\n",
       "2280 2018-04-30  123.868278  115.128011  133.447235\n",
       "2281 2018-05-01  123.807831  114.670218  132.943068\n",
       "2282 2018-05-02  123.798974  114.408798  133.202980\n",
       "2283 2018-05-03  123.719653  115.022810  133.058627\n",
       "2284 2018-05-07  123.664409  114.318818  132.924308\n",
       "2285 2018-05-08  123.562239  114.476567  132.697439\n",
       "2286 2018-05-09  123.514884  113.596694  132.117433\n",
       "2287 2018-05-10  123.401562  113.621763  132.033646\n",
       "2288 2018-05-14  123.276545  113.808433  132.692741\n",
       "2289 2018-05-16  123.141752  113.161296  132.556503\n",
       "2290 2018-05-17  123.049135  113.966172  133.185118\n",
       "2291 2018-05-18  123.025948  114.370424  132.578586\n",
       "2292 2018-05-19  117.583762  108.465929  127.147784\n",
       "2293 2018-05-20  117.572499  108.826828  126.367576\n",
       "2294 2018-05-21  123.086517  114.439611  132.416080\n",
       "2295 2018-05-22  123.043454  113.916636  132.084050\n",
       "2296 2018-05-23  123.067961  114.105131  132.126296\n",
       "2297 2018-05-24  123.037772  114.190487  131.659748\n",
       "2298 2018-05-25  123.077862  113.961274  132.114016\n",
       "2299 2018-05-26  117.698213  108.538939  126.673411\n",
       "2300 2018-05-27  117.747162  108.737142  127.070504\n",
       "2301 2018-05-28  123.317520  113.491902  132.062454\n",
       "2302 2018-05-29  123.325465  113.381313  132.545611\n",
       "2303 2018-05-30  123.394312  114.173967  133.022704\n",
       "2304 2018-05-31  123.400624  113.919881  132.683809\n",
       "2305 2018-06-01  123.468400  114.739206  133.534157\n",
       "2306 2018-06-02  118.106873  109.297383  126.892443\n",
       "2307 2018-06-03  118.163877  109.006424  127.952639\n",
       "2308 2018-06-04  123.731980  114.508577  132.585006\n",
       "2309 2018-06-05  123.727389  114.610181  132.426308\n",
       "2310 2018-06-06  123.773719  114.558862  132.656139\n",
       "2311 2018-06-07  123.748095  113.933256  132.329448\n",
       "2312 2018-06-08  123.775329  114.091751  133.283975\n",
       "2313 2018-06-09  118.365694  109.326767  127.362370\n",
       "2314 2018-06-10  118.368265  109.038177  127.770365\n",
       "2315 2018-06-11  123.877021  114.530831  133.393220\n",
       "2316 2018-06-12  123.809706  114.550573  132.508523\n",
       "2317 2018-06-13  123.791564  114.721064  132.728587\n",
       "2318 2018-06-14  123.701391  113.964892  132.818804\n",
       "2319 2018-06-15  123.665671  114.410574  133.368939\n",
       "2320 2018-06-16  118.196305  109.104257  127.872163\n",
       "2321 2018-06-17  118.143904  109.132487  127.732353\n",
       "2322 2018-06-18  123.603854  113.769475  132.975687\n",
       "2323 2018-06-19  123.495138  113.171626  131.902464\n",
       "2324 2018-06-20  123.444039  114.622915  132.511229"
      ]
     },
     "execution_count": 31,
     "metadata": {
      "tags": []
     },
     "output_type": "execute_result"
    }
   ],
   "source": [
    "forecast[['ds','yhat','yhat_lower','yhat_upper']].tail(50)"
   ]
  },
  {
   "cell_type": "code",
   "execution_count": 32,
   "metadata": {
    "colab": {
     "base_uri": "https://localhost:8080/",
     "height": 441
    },
    "id": "8L4DryLIQbJd",
    "outputId": "6a61144a-841f-4361-ef29-2e38d2aefbc1"
   },
   "outputs": [
    {
     "data": {
      "image/png": "[encoded data removed]",
      "text/plain": [
       "<Figure size 720x432 with 1 Axes>"
      ]
     },
     "metadata": {
      "tags": []
     },
     "output_type": "display_data"
    }
   ],
   "source": [
    "forecast_plot = model.plot(forecast)"
   ]
  },
  {
   "cell_type": "code",
   "execution_count": 33,
   "metadata": {
    "colab": {
     "base_uri": "https://localhost:8080/",
     "height": 657
    },
    "id": "5dkS5h00Q1DV",
    "outputId": "7da24b61-4c53-4bbd-c88c-0525310c2f92"
   },
   "outputs": [
    {
     "data": {
      "image/png": "[encoded data removed]",
      "text/plain": [
       "<Figure size 648x648 with 3 Axes>"
      ]
     },
     "metadata": {
      "tags": []
     },
     "output_type": "display_data"
    }
   ],
   "source": [
    "forecast_plot_components = model.plot_components(forecast)"
   ]
  },
  {
   "cell_type": "code",
   "execution_count": null,
   "metadata": {
    "id": "5TZmjdi_Q8T1"
   },
   "outputs": [],
   "source": []
  },
  {
   "cell_type": "markdown",
   "metadata": {
    "id": "OgP53ZtVRdhG"
   },
   "source": [
    "# Forcasting is Done Perfectly......."
   ]
  },
  {
   "cell_type": "code",
   "execution_count": null,
   "metadata": {
    "id": "KDO-S0RXRemV"
   },
   "outputs": [],
   "source": []
  }
 ],
 "metadata": {
  "colab": {
   "name": "Untitled.ipynb",
   "provenance": [],
   "toc_visible": true
  },
  "kernelspec": {
   "display_name": "Python 3",
   "language": "python",
   "name": "python3"
  },
  "language_info": {
   "codemirror_mode": {
    "name": "ipython",
    "version": 3
   },
   "file_extension": ".py",
   "mimetype": "text/x-python",
   "name": "python",
   "nbconvert_exporter": "python",
   "pygments_lexer": "ipython3",
   "version": "3.7.6"
  }
 },
 "nbformat": 4,
 "nbformat_minor": 1
}
